{
 "cells": [
  {
   "attachments": {},
   "cell_type": "markdown",
   "metadata": {},
   "source": [
    "# Lab 3\n",
    "---------------------------------------------------------------------\n",
    "Author: Kevin Paganini    \n",
    "Assignment: Lab 3     \n",
    "Description: In this lab we review statistical tests. We look at chi-squared, pearson correlation and Kruskal-Walis tests and apply them to the sacramento real estate data set.    \n",
    "Date: 1/3/2023   "
   ]
  },
  {
   "cell_type": "code",
   "execution_count": 119,
   "metadata": {},
   "outputs": [],
   "source": [
    "import pandas as pd\n",
    "import numpy as np\n",
    "import matplotlib.pyplot as plt\n",
    "import os\n",
    "import seaborn as sns\n",
    "import sys\n",
    "\n",
    "\n",
    "\n",
    "\n",
    "\n",
    "pd.set_option('display.max_rows', 250)\n",
    "sacramento_real_estate_path = os.path.join('Data', 'csd.csv')\n"
   ]
  },
  {
   "attachments": {},
   "cell_type": "markdown",
   "metadata": {},
   "source": [
    "## Part 1: Review of statistical tests\n",
    "\n",
    "A. People who play video games have similar gpa's to people who don't play video games.    \n",
    "\n",
    "B. A two sample t test can be used to determine whether two means are significantly different. Here we are trying to compare two different means to see if they are truly different. The two sample t-test is appropriate.   \n",
    "\n",
    "C. Null Hypothesis: There is no significant difference between the means of the gamer population vs. non-gamer population.    \n",
    "Alternative Hypothesis: There is a significant difference between the means of the two populations.     \n",
    "\n",
    "D. Use the ttest_ind_from_stats function in Scipy to perform a t-test on your data above \n",
    "and report the p-value.  Interpret your p-value using a significance threshold (alpha) of 0.01.  \n",
    "Are you able to reject the null hypothesis?  Are the differences in GPAs of the two groups statistically significant?\n"
   ]
  },
  {
   "cell_type": "code",
   "execution_count": 120,
   "metadata": {},
   "outputs": [
    {
     "data": {
      "text/plain": [
       "Ttest_indResult(statistic=0.39893881176878243, pvalue=0.6908062583072547)"
      ]
     },
     "execution_count": 120,
     "metadata": {},
     "output_type": "execute_result"
    }
   ],
   "source": [
    "from scipy.stats import ttest_ind_from_stats\n",
    "\n",
    "ttest_ind_from_stats(mean1=3.4, std1=1.2, nobs1=68, mean2=3.3, std2=1.1, nobs2=32)\n",
    "\n"
   ]
  },
  {
   "attachments": {},
   "cell_type": "markdown",
   "metadata": {},
   "source": [
    "Since the p-value is ~0.69, (> 0.01), one cannot conclude that the two means are significantly different. "
   ]
  },
  {
   "attachments": {},
   "cell_type": "markdown",
   "metadata": {},
   "source": [
    "E. The statistical test confirms my hypothesis. People who play video games and people who do not have similar gpa's."
   ]
  },
  {
   "attachments": {},
   "cell_type": "markdown",
   "metadata": {},
   "source": [
    "## Part 2: Exploring additional Statistical Tests\n",
    "\n",
    "Statistical tests: Pearson's correlation, Kruskal-Wallis test, Chi-squared goodness of fit     \n",
    "\n",
    "### Pearson's correlation: \n",
    "\n",
    "a.  List  the  two  types  of  variables  for  which  the  test  is  appropriate. Indicate  any assumptions that you would need to be aware of. \n",
    "\n",
    "- Both variables should be continuous. They can be interval or ratio scale variables. Their should be a clear notion of what is considered larger or smaller. A good example of this would be weight in kg and height in m. This test is not appropriate if one or both of the varaiables are categorical. \n",
    " \n",
    "b. Write down the general forms of the null and alternative hypotheses (one sentence per \n",
    "hypothesis).    \n",
    "\n",
    "- The general form of the null hypothesis is that there is no relationship between the two variables, i.e. H0: r = 0, where r is the pearson coefficient. The alternative hypothesis can take on a couple forms. One could be that it is simply not 0, i.e. H1: r != 0. The direction of the inequality could be specified like so: r > 0 or r <0.\n",
    "\n",
    " \n",
    "c.  In  your  own  words,  write  what  it  would  mean  if  the  test  did  and  did  not  indicate \n",
    "statistical significance.\n",
    "\n",
    "- If the test is close to 0, (-0.05 - 0.05), i.e. statistically insignificant, the two variables are not related. If the pearson correlation is close to 1, if one variable moves in a positive direction, the other variable also moves in a positive direction, i.e. there is a positive linear relationship. If the pearsion coefficient is close to -1, there is negative linear relationship.\n",
    "\n",
    "### Kruskal-Wallis Test\n",
    "\n",
    "a.  List  the  two  types  of  variables  for  which  the  test  is  appropriate. Indicate  any assumptions that you would need to be aware of. \n",
    "\n",
    "- The Kruskal-Wallis test can be used with ordinal or continuous values. The test cannot be used on categorical values like gender, because those cannot be ranked.\n",
    " \n",
    "b. Write down the general forms of the null and alternative hypotheses (one sentence per \n",
    "hypothesis).\n",
    "\n",
    "- The Kruskal-Wallis test null hypothesis is: H0: R1 = R2 = R3 ... = Rk. Or in other words, the average rank of the different groups is statistically insignificant. The alternative hypothesis is H1: R1 != R2 != R3 ... != Rk, or the difference in average rank is statistically significant. \n",
    " \n",
    "c.  In  your  own  words,  write  what  it  would  mean  if  the  test  did  and  did  not  indicate \n",
    "statistical significance.\n",
    "\n",
    "- If the kruskal-wallis test is statistically significant, the null hyopthesis can be rejected. This means that the average rank is significantly different. Conversely, if the test is insignificant the null hyopthesis cannot be rejected and there is no significant difference between the mean of the different groups.\n",
    "\n",
    "### Chi-squared goodness of fit\n",
    "\n",
    "a.  List  the  two  types  of  variables  for  which  the  test  is  appropriate. Indicate  any \n",
    "assumptions that you would need to be aware of. \n",
    "\n",
    "- To do the chi squared goodness of fit test, one must have at least one categorical variable. One can then determine whether the observed frequency of the sample is statistically different from the expected freuqency. \n",
    " \n",
    "b. Write down the general forms of the null and alternative hypotheses (one sentence per \n",
    "hypothesis). \n",
    "\n",
    "- null Hyopthesis: H0: The categorical variable does not significantly differ from the expected frequency.\n",
    "- Alternative hypothesis: H1: The categorical variable differs from the expected frequency.\n",
    " \n",
    "c.  In  your  own  words,  write  what  it  would  mean  if  the  test  did  and  did  not  indicate \n",
    "statistical significance.\n",
    "\n",
    "- If the test comes back as statistically significant, then the categories differ from the expected values. \n",
    "- If the test comes back as not statistically significant, then the categories do not differ from expected values. "
   ]
  },
  {
   "attachments": {},
   "cell_type": "markdown",
   "metadata": {},
   "source": [
    "## Part 3: Regression on Price"
   ]
  },
  {
   "attachments": {},
   "cell_type": "markdown",
   "metadata": {},
   "source": [
    "a. Load the CSV file of the cleaned data set you created in Lab 1"
   ]
  },
  {
   "cell_type": "code",
   "execution_count": 121,
   "metadata": {},
   "outputs": [
    {
     "name": "stdout",
     "output_type": "stream",
     "text": [
      "Index(['street', 'city', 'zip', 'state', 'beds', 'baths', 'sq__ft', 'type',\n",
      "       'sale_date', 'price', 'latitude', 'longitude', 'empty_lot',\n",
      "       'street_type'],\n",
      "      dtype='object')\n"
     ]
    },
    {
     "data": {
      "text/html": [
       "<div>\n",
       "<style scoped>\n",
       "    .dataframe tbody tr th:only-of-type {\n",
       "        vertical-align: middle;\n",
       "    }\n",
       "\n",
       "    .dataframe tbody tr th {\n",
       "        vertical-align: top;\n",
       "    }\n",
       "\n",
       "    .dataframe thead th {\n",
       "        text-align: right;\n",
       "    }\n",
       "</style>\n",
       "<table border=\"1\" class=\"dataframe\">\n",
       "  <thead>\n",
       "    <tr style=\"text-align: right;\">\n",
       "      <th></th>\n",
       "      <th>street</th>\n",
       "      <th>city</th>\n",
       "      <th>zip</th>\n",
       "      <th>state</th>\n",
       "      <th>beds</th>\n",
       "      <th>baths</th>\n",
       "      <th>sq__ft</th>\n",
       "      <th>type</th>\n",
       "      <th>sale_date</th>\n",
       "      <th>price</th>\n",
       "      <th>latitude</th>\n",
       "      <th>longitude</th>\n",
       "      <th>empty_lot</th>\n",
       "      <th>street_type</th>\n",
       "    </tr>\n",
       "  </thead>\n",
       "  <tbody>\n",
       "    <tr>\n",
       "      <th>0</th>\n",
       "      <td>3526 HIGH ST</td>\n",
       "      <td>SACRAMENTO</td>\n",
       "      <td>95838</td>\n",
       "      <td>CA</td>\n",
       "      <td>2</td>\n",
       "      <td>1</td>\n",
       "      <td>836</td>\n",
       "      <td>Residential</td>\n",
       "      <td>Wed May 21 00:00:00 EDT 2008</td>\n",
       "      <td>59222</td>\n",
       "      <td>38.631913</td>\n",
       "      <td>-121.434879</td>\n",
       "      <td>False</td>\n",
       "      <td>ST</td>\n",
       "    </tr>\n",
       "    <tr>\n",
       "      <th>1</th>\n",
       "      <td>51 OMAHA CT</td>\n",
       "      <td>SACRAMENTO</td>\n",
       "      <td>95823</td>\n",
       "      <td>CA</td>\n",
       "      <td>3</td>\n",
       "      <td>1</td>\n",
       "      <td>1167</td>\n",
       "      <td>Residential</td>\n",
       "      <td>Wed May 21 00:00:00 EDT 2008</td>\n",
       "      <td>68212</td>\n",
       "      <td>38.478902</td>\n",
       "      <td>-121.431028</td>\n",
       "      <td>False</td>\n",
       "      <td>CT</td>\n",
       "    </tr>\n",
       "    <tr>\n",
       "      <th>2</th>\n",
       "      <td>2796 BRANCH ST</td>\n",
       "      <td>SACRAMENTO</td>\n",
       "      <td>95815</td>\n",
       "      <td>CA</td>\n",
       "      <td>2</td>\n",
       "      <td>1</td>\n",
       "      <td>796</td>\n",
       "      <td>Residential</td>\n",
       "      <td>Wed May 21 00:00:00 EDT 2008</td>\n",
       "      <td>68880</td>\n",
       "      <td>38.618305</td>\n",
       "      <td>-121.443839</td>\n",
       "      <td>False</td>\n",
       "      <td>ST</td>\n",
       "    </tr>\n",
       "    <tr>\n",
       "      <th>3</th>\n",
       "      <td>2805 JANETTE WAY</td>\n",
       "      <td>SACRAMENTO</td>\n",
       "      <td>95815</td>\n",
       "      <td>CA</td>\n",
       "      <td>2</td>\n",
       "      <td>1</td>\n",
       "      <td>852</td>\n",
       "      <td>Residential</td>\n",
       "      <td>Wed May 21 00:00:00 EDT 2008</td>\n",
       "      <td>69307</td>\n",
       "      <td>38.616835</td>\n",
       "      <td>-121.439146</td>\n",
       "      <td>False</td>\n",
       "      <td>WAY</td>\n",
       "    </tr>\n",
       "    <tr>\n",
       "      <th>4</th>\n",
       "      <td>6001 MCMAHON DR</td>\n",
       "      <td>SACRAMENTO</td>\n",
       "      <td>95824</td>\n",
       "      <td>CA</td>\n",
       "      <td>2</td>\n",
       "      <td>1</td>\n",
       "      <td>797</td>\n",
       "      <td>Residential</td>\n",
       "      <td>Wed May 21 00:00:00 EDT 2008</td>\n",
       "      <td>81900</td>\n",
       "      <td>38.519470</td>\n",
       "      <td>-121.435768</td>\n",
       "      <td>False</td>\n",
       "      <td>DR</td>\n",
       "    </tr>\n",
       "  </tbody>\n",
       "</table>\n",
       "</div>"
      ],
      "text/plain": [
       "             street        city    zip state  beds  baths  sq__ft  \\\n",
       "0      3526 HIGH ST  SACRAMENTO  95838    CA     2      1     836   \n",
       "1       51 OMAHA CT  SACRAMENTO  95823    CA     3      1    1167   \n",
       "2    2796 BRANCH ST  SACRAMENTO  95815    CA     2      1     796   \n",
       "3  2805 JANETTE WAY  SACRAMENTO  95815    CA     2      1     852   \n",
       "4   6001 MCMAHON DR  SACRAMENTO  95824    CA     2      1     797   \n",
       "\n",
       "          type                     sale_date  price   latitude   longitude  \\\n",
       "0  Residential  Wed May 21 00:00:00 EDT 2008  59222  38.631913 -121.434879   \n",
       "1  Residential  Wed May 21 00:00:00 EDT 2008  68212  38.478902 -121.431028   \n",
       "2  Residential  Wed May 21 00:00:00 EDT 2008  68880  38.618305 -121.443839   \n",
       "3  Residential  Wed May 21 00:00:00 EDT 2008  69307  38.616835 -121.439146   \n",
       "4  Residential  Wed May 21 00:00:00 EDT 2008  81900  38.519470 -121.435768   \n",
       "\n",
       "   empty_lot street_type  \n",
       "0      False          ST  \n",
       "1      False          CT  \n",
       "2      False          ST  \n",
       "3      False         WAY  \n",
       "4      False          DR  "
      ]
     },
     "execution_count": 121,
     "metadata": {},
     "output_type": "execute_result"
    }
   ],
   "source": [
    "sac_df = pd.read_csv(sacramento_real_estate_path)\n",
    "sac_df.drop(['Unnamed: 0'], inplace=True, axis=1)\n",
    "print(sac_df.columns)\n",
    "sac_df.head()\n"
   ]
  },
  {
   "attachments": {},
   "cell_type": "markdown",
   "metadata": {},
   "source": [
    "b. For each continuous variable, use the scipy.stats.linregress() to fit a simple (one \n",
    "variable) linear regression model, estimate the Pearson's correlation coefficient , and \n",
    "the statistical significance (p-value) of the correlation against the price of the property. \n",
    " \n",
    "slope, intercept, r, p, stderr = stats.linregress(df[\"price\"], df[\"latitude\"]) \n",
    " \n",
    "In a table, indicate the variable name, p-value, and whether there is a statistically \n",
    "significant relationship between that variable and price at a threshold of alpha = 0.01. \n",
    "\n",
    "Continuous variables: sq__ft, price, latitude, longitude, beds, baths   \n"
   ]
  },
  {
   "cell_type": "code",
   "execution_count": null,
   "metadata": {},
   "outputs": [],
   "source": []
  },
  {
   "cell_type": "code",
   "execution_count": 122,
   "metadata": {},
   "outputs": [
    {
     "name": "stdout",
     "output_type": "stream",
     "text": [
      "Slope: 0.0020615672685718\n",
      "Intercept: 833.6344944683731\n",
      "R: 0.3347796424579801\n",
      "p: 3.386589667562419e-27\n",
      "stderr: 0.0001851698514061476\n"
     ]
    }
   ],
   "source": [
    "from scipy.stats import linregress\n",
    "\n",
    "slope, intercept, r, p, stderr = linregress(sac_df[\"price\"], sac_df[\"sq__ft\"]) \n",
    "\n",
    "print(f'Slope: {slope}')\n",
    "print(f'Intercept: {intercept}')\n",
    "print(f'R: {r}')\n",
    "print(f'p: {p}')\n",
    "print(f'stderr: {stderr}')\n"
   ]
  },
  {
   "attachments": {},
   "cell_type": "markdown",
   "metadata": {},
   "source": [
    "| Column name | p-value | significant |\n",
    "|-------------|---------|-------------|\n",
    "| longitude   | 0       | False       |\n",
    "| latitude    | 0.21    | True        |\n",
    "| beds        | 0       | False       |\n",
    "| baths       | 0       | False       |\n",
    "| sq__ft      | 0       | False       |"
   ]
  },
  {
   "attachments": {},
   "cell_type": "markdown",
   "metadata": {},
   "source": [
    "c.  We can test for association between categorical and continuous variables using a \n",
    "Kruskal-Wallis test using the Scipy kruskal() function.  In this example, we want to know \n",
    "if the distribution of prices for condos is different from the distribution for other \n",
    "property types: \n",
    " \n",
    "i. Use Pandas masks to select the prices for each type of property \n",
    " \n",
    "samples_by_group = []    \n",
    "for value in set(df[\"type\"]):    \n",
    "    mask = df[\"type\"] == value    \n",
    "    samples_by_group.append(df[\"price\"][mask])    \n",
    " \n",
    "ii. Perform Kruskal-Wallis test: \n",
    " \n",
    "stat, p = stats.kruskal(*samples_by_group) \n",
    " \n",
    "In a table, indicate the variable name, p-value, and whether there is a statistically \n",
    "significant relationship between that variable and price at a threshold of alpha = 0.01. "
   ]
  },
  {
   "cell_type": "code",
   "execution_count": 123,
   "metadata": {},
   "outputs": [
    {
     "data": {
      "text/plain": [
       "Index(['street', 'city', 'zip', 'state', 'beds', 'baths', 'sq__ft', 'type',\n",
       "       'sale_date', 'price', 'latitude', 'longitude', 'empty_lot',\n",
       "       'street_type'],\n",
       "      dtype='object')"
      ]
     },
     "execution_count": 123,
     "metadata": {},
     "output_type": "execute_result"
    }
   ],
   "source": [
    "sac_df.columns"
   ]
  },
  {
   "cell_type": "code",
   "execution_count": 124,
   "metadata": {},
   "outputs": [
    {
     "name": "stdout",
     "output_type": "stream",
     "text": [
      "city p: 3.713804860597625e-49\n",
      "zip p: 2.792740902787263e-65\n",
      "type p: 3.207382704900952e-07\n",
      "empty_lot p: 0.04271004986704472\n",
      "street_type p: nan\n",
      "beds p: 7.750684335831685e-38\n",
      "baths p: 9.614316922056859e-51\n"
     ]
    }
   ],
   "source": [
    "from scipy.stats import kruskal\n",
    "\n",
    "cat_vars = ['city', 'zip', 'type', 'empty_lot', 'street_type', 'beds', 'baths']\n",
    "\n",
    "for col in cat_vars:\n",
    "\n",
    "\n",
    "    samples_by_group = [] \n",
    "    for value in set(sac_df[col]): \n",
    "        mask = sac_df[col] == value \n",
    "        \n",
    "        samples_by_group.append(sac_df[\"price\"][mask]) \n",
    "        \n",
    "    stat, p = kruskal(*samples_by_group, nan_policy='omit')\n",
    "\n",
    "    print(f'{col} p: {p}')\n",
    "    \n",
    "\n",
    "\n"
   ]
  },
  {
   "attachments": {},
   "cell_type": "markdown",
   "metadata": {},
   "source": [
    "| column name | p-value  | significant |\n",
    "|-------------|----------|-------------|\n",
    "| city        | 3.17e-49 | False       |\n",
    "| zip         | 2.79e-65 | False       |\n",
    "| type        | 3.2e-7   | False       |\n",
    "| empty_lot   | 0.04     | True        |\n",
    "| street_type | 0        | False       |\n",
    "| beds        | 7.7e-38  | False       |\n",
    "| baths       | 9.6e-51  | False       |\n"
   ]
  },
  {
   "attachments": {},
   "cell_type": "markdown",
   "metadata": {},
   "source": [
    "The results are not in line with what was expected. I thought that there would be a higher p value for longitude, sq__ft, beds and baths, but they all received low p values. THe only ones with high p values was empty_lot and latitude, which I find peculiar.   "
   ]
  },
  {
   "attachments": {},
   "cell_type": "markdown",
   "metadata": {},
   "source": [
    "## Part 4: Classification on Property type\n",
    "\n",
    "a. Run Kruskal-Wallis test for each continuous variable versus the property type. In a \n",
    "table, indicate the variable name, p-value, and whether there is a statistically significant \n",
    "relationship between that variable and property type at a threshold of alpha = 0.01"
   ]
  },
  {
   "cell_type": "code",
   "execution_count": 125,
   "metadata": {},
   "outputs": [
    {
     "name": "stdout",
     "output_type": "stream",
     "text": [
      "beds p: 9.744917163987025e-20\n",
      "baths p: 7.395202985621193e-10\n",
      "sq__ft p: 1.6939194179245937e-12\n",
      "price p: 3.207382704900952e-07\n",
      "latitude p: 0.30624396471011495\n",
      "longitude p: 0.8019445584702664\n"
     ]
    }
   ],
   "source": [
    "\n",
    "cont_var = ['beds', 'baths', 'sq__ft', 'price', 'latitude', 'longitude']\n",
    "\n",
    "for x in cont_var:\n",
    "    samples_by_group = []\n",
    "    for y in set(sac_df['type']):\n",
    "        mask = sac_df['type'] == y\n",
    "        samples_by_group.append(sac_df[x][mask]) \n",
    "    stat, p = kruskal(*samples_by_group, nan_policy='omit')\n",
    "        \n",
    "    \n",
    "\n",
    "\n",
    "    print(f'{x} p: {p}')"
   ]
  },
  {
   "attachments": {},
   "cell_type": "markdown",
   "metadata": {},
   "source": [
    "| column name | p-value | significant |\n",
    "|-------------|---------|-------------|\n",
    "| beds        | 0       | False       |\n",
    "| baths       | 0       | False       |\n",
    "| sq__ft      | 0       | False       |\n",
    "| price       | 0       | False       |\n",
    "| latitude    | 0.3     | True        |\n",
    "| longitude   | 0.8     | True        |"
   ]
  },
  {
   "cell_type": "code",
   "execution_count": 126,
   "metadata": {},
   "outputs": [
    {
     "data": {
      "text/plain": [
       "Index(['street', 'city', 'zip', 'state', 'beds', 'baths', 'sq__ft', 'type',\n",
       "       'sale_date', 'price', 'latitude', 'longitude', 'empty_lot',\n",
       "       'street_type'],\n",
       "      dtype='object')"
      ]
     },
     "execution_count": 126,
     "metadata": {},
     "output_type": "execute_result"
    }
   ],
   "source": [
    "sac_df.columns"
   ]
  },
  {
   "attachments": {},
   "cell_type": "markdown",
   "metadata": {},
   "source": [
    "b. Run a Chi2 test of independence between each categorical variable versus the property type. In a table, indicate the variable name,  p-value, and whether there is a statistically \n",
    "significant relationship between that variable and property type at a threshold of alpha = 0.01"
   ]
  },
  {
   "cell_type": "code",
   "execution_count": 127,
   "metadata": {},
   "outputs": [
    {
     "name": "stdout",
     "output_type": "stream",
     "text": [
      "city chi2: 52.99924802253293\n",
      "city p: 0.9690599778204446\n",
      "zip chi2: 203.22283050088117\n",
      "zip p: 0.00010690898007077516\n",
      "type chi2: 1968.0\n",
      "type p: 0.0\n",
      "empty_lot chi2: 3.6406022453620115\n",
      "empty_lot p: 0.16197696865046218\n",
      "street_type chi2: 125.091834430683\n",
      "street_type p: 3.2273633291568606e-17\n",
      "beds chi2: 356.4586026562881\n",
      "beds p: 1.816876113747052e-67\n",
      "baths chi2: 225.83626587573647\n",
      "baths p: 6.406801519550199e-43\n"
     ]
    }
   ],
   "source": [
    "from scipy.stats import chi2_contingency\n",
    "\n",
    "for val in cat_vars:\n",
    "    comb_counts = pd.crosstab(sac_df[val], sac_df['type'])\n",
    "    chi2, p, _, _ = chi2_contingency(comb_counts)\n",
    "    \n",
    "    print(f'{val} chi2: {chi2}')\n",
    "    print(f'{val} p: {p}')\n",
    "    "
   ]
  },
  {
   "attachments": {},
   "cell_type": "markdown",
   "metadata": {},
   "source": [
    "| column name | p-value | significant |\n",
    "|-------------|---------|-------------|\n",
    "| baths       | 6.4e-43 | False       |\n",
    "| city        | 0.96    | True        |\n",
    "| zip         | 0.0001  | False       |\n",
    "| type        | NA      | NA          |\n",
    "| empty_lot   | 0.16    | True        |\n",
    "| street_type | 3.2e-17 | False       |\n",
    "| beds        | 1.8e-67 | False       |"
   ]
  },
  {
   "attachments": {},
   "cell_type": "markdown",
   "metadata": {},
   "source": [
    "c. How do the results of the statistical tests compare with your analysis of the visualizations of variable pairs from Lab 2.     \n",
    "\n",
    "City had a high p value in the statistical test. In the visualizations it also looked like it would have high predictability. Empty_lot had a high p value. however in the visualizations it looked like it was lower. Latitude and longitude did not look very predictive in the visualizations, but here they have a higher p value. It makes sense that longitude has a higher p vaue than latitude, visually it seems the same way.   "
   ]
  },
  {
   "cell_type": "code",
   "execution_count": null,
   "metadata": {},
   "outputs": [],
   "source": []
  }
 ],
 "metadata": {
  "kernelspec": {
   "display_name": "venv",
   "language": "python",
   "name": "python3"
  },
  "language_info": {
   "codemirror_mode": {
    "name": "ipython",
    "version": 3
   },
   "file_extension": ".py",
   "mimetype": "text/x-python",
   "name": "python",
   "nbconvert_exporter": "python",
   "pygments_lexer": "ipython3",
   "version": "3.10.7"
  },
  "orig_nbformat": 4,
  "vscode": {
   "interpreter": {
    "hash": "f7c986cd421197954bb4617ce5268c1a5200f2ca959279bba175e15553fadd14"
   }
  }
 },
 "nbformat": 4,
 "nbformat_minor": 2
}
